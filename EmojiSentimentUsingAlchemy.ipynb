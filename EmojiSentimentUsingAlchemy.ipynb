{
 "cells": [
  {
   "cell_type": "markdown",
   "metadata": {},
   "source": [
    "## Emoji Sentiment Analysis using Wantson's Alchemy API. higher number of positives and negatives.\n",
    "\n",
    "______________________________________________________________________________________________________________________"
   ]
  },
  {
   "cell_type": "code",
   "execution_count": 35,
   "metadata": {
    "collapsed": false
   },
   "outputs": [],
   "source": [
    "from alchemyapi import AlchemyAPI\n",
    "alchemyapi = AlchemyAPI()"
   ]
  },
  {
   "cell_type": "code",
   "execution_count": 36,
   "metadata": {
    "collapsed": true
   },
   "outputs": [],
   "source": [
    "import pandas as pd\n",
    "import numpy as np"
   ]
  },
  {
   "cell_type": "code",
   "execution_count": 131,
   "metadata": {
    "collapsed": false
   },
   "outputs": [
    {
     "name": "stdout",
     "output_type": "stream",
     "text": [
      "Sentiment:  {u'status': u'ERROR', u'statusInfo': u'daily-transaction-limit-exceeded'}\n"
     ]
    }
   ],
   "source": [
    "myText = \"I'm excited to get started with AlchemyAPI!\"\n",
    "response = alchemyapi.sentiment(\"text\", myText)\n",
    "print \"Sentiment: \", response#[\"docSentiment\"][\"type\"]"
   ]
  },
  {
   "cell_type": "code",
   "execution_count": 106,
   "metadata": {
    "collapsed": false
   },
   "outputs": [],
   "source": [
    "k = pd.read_excel(\"../emojisexl.xlsx\")"
   ]
  },
  {
   "cell_type": "code",
   "execution_count": 137,
   "metadata": {
    "collapsed": false
   },
   "outputs": [
    {
     "data": {
      "text/html": [
       "<div>\n",
       "<table border=\"1\" class=\"dataframe\">\n",
       "  <thead>\n",
       "    <tr style=\"text-align: right;\">\n",
       "      <th></th>\n",
       "      <th>№</th>\n",
       "      <th>Code</th>\n",
       "      <th>Brow.</th>\n",
       "      <th>Chart</th>\n",
       "      <th>Apple</th>\n",
       "      <th>Twtr.</th>\n",
       "      <th>One</th>\n",
       "      <th>Goog.</th>\n",
       "      <th>Sams.</th>\n",
       "      <th>Wind.</th>\n",
       "      <th>GMail</th>\n",
       "      <th>Sb</th>\n",
       "      <th>Dcm</th>\n",
       "      <th>Kddi</th>\n",
       "      <th>Name</th>\n",
       "      <th>Year</th>\n",
       "      <th>Default</th>\n",
       "      <th>Annotations</th>\n",
       "    </tr>\n",
       "  </thead>\n",
       "  <tbody>\n",
       "    <tr>\n",
       "      <th>0</th>\n",
       "      <td>1</td>\n",
       "      <td>U+1F600</td>\n",
       "      <td>😀</td>\n",
       "      <td>😀</td>\n",
       "      <td>😀</td>\n",
       "      <td>😀</td>\n",
       "      <td>😀</td>\n",
       "      <td>😀</td>\n",
       "      <td>😀</td>\n",
       "      <td>😀</td>\n",
       "      <td>😀</td>\n",
       "      <td>missing</td>\n",
       "      <td>missing</td>\n",
       "      <td>missing</td>\n",
       "      <td>GRINNING FACE</td>\n",
       "      <td>2012ˣ</td>\n",
       "      <td>emoji</td>\n",
       "      <td>face, grin, person</td>\n",
       "    </tr>\n",
       "    <tr>\n",
       "      <th>1</th>\n",
       "      <td>2</td>\n",
       "      <td>U+1F601</td>\n",
       "      <td>😁</td>\n",
       "      <td>😁</td>\n",
       "      <td>😁</td>\n",
       "      <td>😁</td>\n",
       "      <td>😁</td>\n",
       "      <td>😁</td>\n",
       "      <td>😁</td>\n",
       "      <td>😁</td>\n",
       "      <td>😁</td>\n",
       "      <td>😁</td>\n",
       "      <td>😁</td>\n",
       "      <td>😁</td>\n",
       "      <td>GRINNING FACE WITH SMILING EYES</td>\n",
       "      <td>2010ʲ</td>\n",
       "      <td>emoji</td>\n",
       "      <td>eye, face, grin, person, smile</td>\n",
       "    </tr>\n",
       "  </tbody>\n",
       "</table>\n",
       "</div>"
      ],
      "text/plain": [
       "   №     Code Brow. Chart Apple Twtr. One Goog. Sams. Wind. GMail       Sb  \\\n",
       "0  1  U+1F600    😀    😀    😀    😀  😀    😀    😀    😀    😀  missing   \n",
       "1  2  U+1F601    😁    😁    😁    😁  😁    😁    😁    😁    😁       😁   \n",
       "\n",
       "       Dcm     Kddi                             Name   Year Default  \\\n",
       "0  missing  missing                    GRINNING FACE  2012ˣ   emoji   \n",
       "1       😁       😁  GRINNING FACE WITH SMILING EYES  2010ʲ   emoji   \n",
       "\n",
       "                      Annotations  \n",
       "0              face, grin, person  \n",
       "1  eye, face, grin, person, smile  "
      ]
     },
     "execution_count": 137,
     "metadata": {},
     "output_type": "execute_result"
    }
   ],
   "source": [
    "k.head(2)"
   ]
  },
  {
   "cell_type": "code",
   "execution_count": 41,
   "metadata": {
    "collapsed": false
   },
   "outputs": [],
   "source": [
    "l=[]\n",
    "for emotion in k['Name']:\n",
    "    response = alchemyapi.sentiment(\"text\", emotion)\n",
    "    l.append(response)"
   ]
  },
  {
   "cell_type": "code",
   "execution_count": 122,
   "metadata": {
    "collapsed": false,
    "scrolled": true
   },
   "outputs": [],
   "source": [
    "e =[]\n",
    "for s in range(1400):\n",
    "    try:\n",
    "        e.append(l[s]['docSentiment']['type'])\n",
    "    except:\n",
    "        e.append(u'neutral')"
   ]
  },
  {
   "cell_type": "code",
   "execution_count": 126,
   "metadata": {
    "collapsed": false
   },
   "outputs": [],
   "source": [
    "table=(k[:1400])"
   ]
  },
  {
   "cell_type": "code",
   "execution_count": 129,
   "metadata": {
    "collapsed": false
   },
   "outputs": [
    {
     "name": "stderr",
     "output_type": "stream",
     "text": [
      "/Users/nikhilkishore/anaconda/lib/python2.7/site-packages/ipykernel/__main__.py:1: SettingWithCopyWarning: \n",
      "A value is trying to be set on a copy of a slice from a DataFrame.\n",
      "Try using .loc[row_indexer,col_indexer] = value instead\n",
      "\n",
      "See the caveats in the documentation: http://pandas.pydata.org/pandas-docs/stable/indexing.html#indexing-view-versus-copy\n",
      "  if __name__ == '__main__':\n"
     ]
    }
   ],
   "source": [
    "table['alchemyEmotion'] = e"
   ]
  },
  {
   "cell_type": "code",
   "execution_count": 136,
   "metadata": {
    "collapsed": false
   },
   "outputs": [
    {
     "data": {
      "text/plain": [
       "neutral     739\n",
       "positive    381\n",
       "negative    280\n",
       "Name: alchemyEmotion, dtype: int64"
      ]
     },
     "execution_count": 136,
     "metadata": {},
     "output_type": "execute_result"
    }
   ],
   "source": [
    "table['alchemyEmotion'].value_counts()"
   ]
  },
  {
   "cell_type": "code",
   "execution_count": null,
   "metadata": {
    "collapsed": true
   },
   "outputs": [],
   "source": []
  }
 ],
 "metadata": {
  "kernelspec": {
   "display_name": "Python 2",
   "language": "python",
   "name": "python2"
  },
  "language_info": {
   "codemirror_mode": {
    "name": "ipython",
    "version": 2
   },
   "file_extension": ".py",
   "mimetype": "text/x-python",
   "name": "python",
   "nbconvert_exporter": "python",
   "pygments_lexer": "ipython2",
   "version": "2.7.11"
  }
 },
 "nbformat": 4,
 "nbformat_minor": 0
}
