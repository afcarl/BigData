{
 "cells": [
  {
   "cell_type": "code",
   "execution_count": 1,
   "metadata": {
    "collapsed": false
   },
   "outputs": [
    {
     "name": "stderr",
     "output_type": "stream",
     "text": [
      "C:\\Users\\Alan\\Anaconda\\lib\\site-packages\\pandas\\computation\\__init__.py:19: UserWarning: The installed version of numexpr 2.4.4 is not supported in pandas and will be not be used\n",
      "\n",
      "  UserWarning)\n"
     ]
    }
   ],
   "source": [
    "import pandas as pd\n",
    "from __future__ import print_function"
   ]
  },
  {
   "cell_type": "code",
   "execution_count": 2,
   "metadata": {
    "collapsed": true
   },
   "outputs": [],
   "source": [
    "data = pd.read_csv(\"../Data/100tweets.csv\")"
   ]
  },
  {
   "cell_type": "code",
   "execution_count": 4,
   "metadata": {
    "collapsed": false
   },
   "outputs": [
    {
     "data": {
      "text/html": [
       "<div>\n",
       "<table border=\"1\" class=\"dataframe\">\n",
       "  <thead>\n",
       "    <tr style=\"text-align: right;\">\n",
       "      <th></th>\n",
       "      <th>id</th>\n",
       "      <th>\"timestamp\"</th>\n",
       "      <th>\"lon\"</th>\n",
       "      <th>\"lat\"</th>\n",
       "      <th>\"tweet\"</th>\n",
       "      <th>\"user_id\"</th>\n",
       "      <th>\"rtwts\"</th>\n",
       "      <th>\"fvrts\"</th>\n",
       "      <th>\"application\"</th>\n",
       "      <th>\"source\"</th>\n",
       "    </tr>\n",
       "  </thead>\n",
       "  <tbody>\n",
       "    <tr>\n",
       "      <th>0</th>\n",
       "      <td>696748471697543168</td>\n",
       "      <td>1454970755</td>\n",
       "      <td>-73.992253</td>\n",
       "      <td>40.704294</td>\n",
       "      <td>A perfect day to take a ride. 😊 #newyork #new...</td>\n",
       "      <td>74176662</td>\n",
       "      <td>NaN</td>\n",
       "      <td>NaN</td>\n",
       "      <td>NaN</td>\n",
       "      <td>C_2016_02_08.db</td>\n",
       "    </tr>\n",
       "  </tbody>\n",
       "</table>\n",
       "</div>"
      ],
      "text/plain": [
       "                   id   \"timestamp\"      \"lon\"      \"lat\"  \\\n",
       "0  696748471697543168    1454970755 -73.992253  40.704294   \n",
       "\n",
       "                                             \"tweet\"   \"user_id\"   \"rtwts\"  \\\n",
       "0  A perfect day to take a ride. 😊 #newyork #new...    74176662       NaN   \n",
       "\n",
       "    \"fvrts\"  \"application\"         \"source\"  \n",
       "0       NaN            NaN  C_2016_02_08.db  "
      ]
     },
     "execution_count": 4,
     "metadata": {},
     "output_type": "execute_result"
    }
   ],
   "source": [
    "data.head(1)"
   ]
  },
  {
   "cell_type": "code",
   "execution_count": 10,
   "metadata": {
    "collapsed": true
   },
   "outputs": [],
   "source": [
    "def tweet_toponymer(dataframe,extractor_function):\n",
    "    dataframe['toponym']=dataframe[' \"tweet\"'].apply(extractor_function)"
   ]
  },
  {
   "cell_type": "code",
   "execution_count": 11,
   "metadata": {
    "collapsed": true
   },
   "outputs": [],
   "source": [
    "from location_extractor import location_extractor as rule_ex"
   ]
  },
  {
   "cell_type": "code",
   "execution_count": 12,
   "metadata": {
    "collapsed": false
   },
   "outputs": [],
   "source": [
    "tweet_toponymer(data,rule_ex)"
   ]
  },
  {
   "cell_type": "code",
   "execution_count": 14,
   "metadata": {
    "collapsed": false
   },
   "outputs": [
    {
     "data": {
      "text/html": [
       "<div>\n",
       "<table border=\"1\" class=\"dataframe\">\n",
       "  <thead>\n",
       "    <tr style=\"text-align: right;\">\n",
       "      <th></th>\n",
       "      <th>id</th>\n",
       "      <th>\"timestamp\"</th>\n",
       "      <th>\"lon\"</th>\n",
       "      <th>\"lat\"</th>\n",
       "      <th>\"tweet\"</th>\n",
       "      <th>\"user_id\"</th>\n",
       "      <th>\"rtwts\"</th>\n",
       "      <th>\"fvrts\"</th>\n",
       "      <th>\"application\"</th>\n",
       "      <th>\"source\"</th>\n",
       "      <th>toponym</th>\n",
       "    </tr>\n",
       "  </thead>\n",
       "  <tbody>\n",
       "    <tr>\n",
       "      <th>0</th>\n",
       "      <td>696748471697543168</td>\n",
       "      <td>1454970755</td>\n",
       "      <td>-73.992253</td>\n",
       "      <td>40.704294</td>\n",
       "      <td>A perfect day to take a ride. 😊 #newyork #new...</td>\n",
       "      <td>74176662</td>\n",
       "      <td>NaN</td>\n",
       "      <td>NaN</td>\n",
       "      <td>NaN</td>\n",
       "      <td>C_2016_02_08.db</td>\n",
       "      <td>[take a ride 😊 ]</td>\n",
       "    </tr>\n",
       "    <tr>\n",
       "      <th>1</th>\n",
       "      <td>663036103646162944</td>\n",
       "      <td>1446933100</td>\n",
       "      <td>-74.005358</td>\n",
       "      <td>40.787743</td>\n",
       "      <td>I'm at Denise &amp;amp; Chris's Apartment in West ...</td>\n",
       "      <td>34375200</td>\n",
       "      <td>NaN</td>\n",
       "      <td>NaN</td>\n",
       "      <td>NaN</td>\n",
       "      <td>twitter1.db</td>\n",
       "      <td>[Denise &amp;amp , West New York ]</td>\n",
       "    </tr>\n",
       "    <tr>\n",
       "      <th>2</th>\n",
       "      <td>674598305704321024</td>\n",
       "      <td>1449689744</td>\n",
       "      <td>-73.978917</td>\n",
       "      <td>40.758825</td>\n",
       "      <td>What do I want for xmas ? Based on this pictur...</td>\n",
       "      <td>138747118</td>\n",
       "      <td>NaN</td>\n",
       "      <td>NaN</td>\n",
       "      <td>NaN</td>\n",
       "      <td>twitter1.db</td>\n",
       "      <td>[Rockefeller Center ]</td>\n",
       "    </tr>\n",
       "    <tr>\n",
       "      <th>3</th>\n",
       "      <td>696224882397474816</td>\n",
       "      <td>1454845921</td>\n",
       "      <td>-74.003852</td>\n",
       "      <td>40.737570</td>\n",
       "      <td>I love #NYC My friends Malano and Amber meet m...</td>\n",
       "      <td>21791930</td>\n",
       "      <td>NaN</td>\n",
       "      <td>NaN</td>\n",
       "      <td>NaN</td>\n",
       "      <td>DO_2016_02_07_twitter.db</td>\n",
       "      <td>[the ]</td>\n",
       "    </tr>\n",
       "    <tr>\n",
       "      <th>4</th>\n",
       "      <td>675850192114081792</td>\n",
       "      <td>1449988217</td>\n",
       "      <td>-73.976389</td>\n",
       "      <td>40.668889</td>\n",
       "      <td>First batch of my handmade, super moisturizing...</td>\n",
       "      <td>3361757393</td>\n",
       "      <td>NaN</td>\n",
       "      <td>NaN</td>\n",
       "      <td>NaN</td>\n",
       "      <td>twitter1.db</td>\n",
       "      <td>[]</td>\n",
       "    </tr>\n",
       "  </tbody>\n",
       "</table>\n",
       "</div>"
      ],
      "text/plain": [
       "                   id   \"timestamp\"      \"lon\"      \"lat\"  \\\n",
       "0  696748471697543168    1454970755 -73.992253  40.704294   \n",
       "1  663036103646162944    1446933100 -74.005358  40.787743   \n",
       "2  674598305704321024    1449689744 -73.978917  40.758825   \n",
       "3  696224882397474816    1454845921 -74.003852  40.737570   \n",
       "4  675850192114081792    1449988217 -73.976389  40.668889   \n",
       "\n",
       "                                             \"tweet\"   \"user_id\"   \"rtwts\"  \\\n",
       "0  A perfect day to take a ride. 😊 #newyork #new...    74176662       NaN   \n",
       "1  I'm at Denise &amp; Chris's Apartment in West ...    34375200       NaN   \n",
       "2  What do I want for xmas ? Based on this pictur...   138747118       NaN   \n",
       "3  I love #NYC My friends Malano and Amber meet m...    21791930       NaN   \n",
       "4  First batch of my handmade, super moisturizing...  3361757393       NaN   \n",
       "\n",
       "    \"fvrts\"  \"application\"                  \"source\"  \\\n",
       "0       NaN            NaN           C_2016_02_08.db   \n",
       "1       NaN            NaN               twitter1.db   \n",
       "2       NaN            NaN               twitter1.db   \n",
       "3       NaN            NaN  DO_2016_02_07_twitter.db   \n",
       "4       NaN            NaN               twitter1.db   \n",
       "\n",
       "                          toponym  \n",
       "0               [take a ride 😊 ]  \n",
       "1  [Denise &amp , West New York ]  \n",
       "2           [Rockefeller Center ]  \n",
       "3                          [the ]  \n",
       "4                              []  "
      ]
     },
     "execution_count": 14,
     "metadata": {},
     "output_type": "execute_result"
    }
   ],
   "source": [
    "data.head(5)"
   ]
  },
  {
   "cell_type": "code",
   "execution_count": null,
   "metadata": {
    "collapsed": true
   },
   "outputs": [],
   "source": []
  }
 ],
 "metadata": {
  "kernelspec": {
   "display_name": "Python 2",
   "language": "python",
   "name": "python2"
  },
  "language_info": {
   "codemirror_mode": {
    "name": "ipython",
    "version": 2
   },
   "file_extension": ".py",
   "mimetype": "text/x-python",
   "name": "python",
   "nbconvert_exporter": "python",
   "pygments_lexer": "ipython2",
   "version": "2.7.11"
  }
 },
 "nbformat": 4,
 "nbformat_minor": 0
}
